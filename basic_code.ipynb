def load_words(file_name):
    with open(file_name, 'r') as file:
        words = [line.strip() for line in file]
    return words
import random

def word_raider_game(word_list):
    word_to_guess = random.choice(word_list)
    guessed_letters = set()
    attempts_remaining = 6
    display_word = '_' * len(word_to_guess)

    while attempts_remaining > 0 and '_' in display_word:
        print(f"Word to guess: {display_word}")
        print(f"Guessed letters: {', '.join(guessed_letters)}")
        print(f"Attempts remaining: {attempts_remaining}")

        guess = input("Guess a letter: ").lower()

        if guess in guessed_letters:
            print("You've already guessed that letter. Try again.")
            continue

        guessed_letters.add(guess)

        if guess in word_to_guess:
            display_word = ''.join(
                [letter if letter in guessed_letters else '_' for letter in word_to_guess]
            )
            print("Good guess!")
        else:
            attempts_remaining -= 1
            print("Wrong guess!")

    if '_' not in display_word:
        print(f"Congratulations! You've guessed the word: {word_to_guess}")
    else:
        print(f"Game over! The word was: {word_to_guess}")
def main():
    words = load_words('words.txt')
    while True:
        word_raider_game(words)
        play_again = input("Do you want to play again? (yes/no): ").lower()
        if play_again != 'yes':
            print("Thanks for playing! Goodbye!")
            break

if __name__ == "__main__":
    main()        
